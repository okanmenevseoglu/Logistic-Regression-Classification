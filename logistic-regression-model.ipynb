{
 "cells": [
  {
   "cell_type": "markdown",
   "metadata": {},
   "source": [
    "# SWE546_Assignment2\n",
    "Logistic Regression\n",
    "\n",
    "Using the Iris dataset, find the optimum logistic regression parameters for the following three problems:\n",
    "\n",
    "- Classify 1 versus 2,3\n",
    "- Classify 2 versus 1,3\n",
    "- Classify 3 versus 1,2\n",
    "\n",
    "\n",
    "Your program should output three parameter vectors, each of length 4.\n",
    "## Name: Okan Menevşeoğlu"
   ]
  },
  {
   "cell_type": "code",
   "execution_count": 1,
   "metadata": {
    "collapsed": true
   },
   "outputs": [],
   "source": [
    "# Necessary imports\n",
    "import numpy as np\n",
    "import pandas as pd\n",
    "\n",
    "# Iris dataset\n",
    "iris = pd.read_csv(\"data/iris.txt\", sep=\" \")"
   ]
  },
  {
   "cell_type": "code",
   "execution_count": 2,
   "metadata": {
    "collapsed": false
   },
   "outputs": [],
   "source": [
    "# Define logistic function\n",
    "def logistic(t):\n",
    "    return 1 / ( 1 + np.exp(-t))"
   ]
  },
  {
   "cell_type": "code",
   "execution_count": 3,
   "metadata": {
    "collapsed": false
   },
   "outputs": [],
   "source": [
    "# Define X matrix with the feature from the iris dataset\n",
    "sepal_length = np.vstack(iris.sl)\n",
    "sepal_width = np.vstack(iris.sw)\n",
    "petal_length = np.vstack(iris.pl)\n",
    "petal_width = np.vstack(iris.pw)\n",
    "X = np.hstack((sepal_length, sepal_width, petal_length, petal_width))"
   ]
  },
  {
   "cell_type": "code",
   "execution_count": 4,
   "metadata": {
    "collapsed": false
   },
   "outputs": [],
   "source": [
    "# Define eta\n",
    "eta = 0.001"
   ]
  },
  {
   "cell_type": "code",
   "execution_count": 5,
   "metadata": {
    "collapsed": false
   },
   "outputs": [],
   "source": [
    "# Define classification function\n",
    "def classify(category):\n",
    "    # Define y matrix\n",
    "    y = np.vstack(iris.c)\n",
    "    \n",
    "    # Define w*\n",
    "    w = np.matrix(np.ones(4)).T\n",
    "    \n",
    "    # Group by category (1 for the class that will be classified with, 0 for the others)\n",
    "    for i in range(len(y)):\n",
    "        y[i,0] = 1 if y[i,0] == category else 0\n",
    "        \n",
    "    # Iterate to find the optimal w\n",
    "    for i in range(10000):\n",
    "        prob = logistic(X * w)\n",
    "        w = w + eta * X.T * (y - prob)\n",
    "    return w"
   ]
  },
  {
   "cell_type": "code",
   "execution_count": 6,
   "metadata": {
    "collapsed": false
   },
   "outputs": [
    {
     "name": "stdout",
     "output_type": "stream",
     "text": [
      "[[ 0.71883956]\n",
      " [ 3.36466218]\n",
      " [-4.74062616]\n",
      " [-1.61263832]]\n"
     ]
    }
   ],
   "source": [
    "# Classify 1 versus 2,3\n",
    "print(classify(1))"
   ]
  },
  {
   "cell_type": "code",
   "execution_count": 7,
   "metadata": {
    "collapsed": false
   },
   "outputs": [
    {
     "name": "stdout",
     "output_type": "stream",
     "text": [
      "[[ 0.73300616]\n",
      " [-1.87866542]\n",
      " [ 1.04693053]\n",
      " [-2.84352623]]\n"
     ]
    }
   ],
   "source": [
    "# Classify 2 versus 1,3\n",
    "print(classify(2))"
   ]
  },
  {
   "cell_type": "code",
   "execution_count": 8,
   "metadata": {
    "collapsed": false
   },
   "outputs": [
    {
     "name": "stdout",
     "output_type": "stream",
     "text": [
      "[[-4.80685745]\n",
      " [-4.96911165]\n",
      " [ 6.35877022]\n",
      " [ 7.88567013]]\n"
     ]
    }
   ],
   "source": [
    "# Classify 3 versus 1,2\n",
    "print(classify(3))"
   ]
  }
 ],
 "metadata": {
  "kernelspec": {
   "display_name": "Python 3",
   "language": "python",
   "name": "python3"
  },
  "language_info": {
   "codemirror_mode": {
    "name": "ipython",
    "version": 3
   },
   "file_extension": ".py",
   "mimetype": "text/x-python",
   "name": "python",
   "nbconvert_exporter": "python",
   "pygments_lexer": "ipython3",
   "version": "3.5.1"
  }
 },
 "nbformat": 4,
 "nbformat_minor": 0
}
